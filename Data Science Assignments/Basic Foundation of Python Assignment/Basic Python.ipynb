{
 "cells": [
  {
   "cell_type": "markdown",
   "id": "e2fe824b-5ef1-4bf5-b09b-9936036f6cb1",
   "metadata": {},
   "source": [
    "### 1.Write a program to check number is positive or negative or zero"
   ]
  },
  {
   "cell_type": "code",
   "execution_count": 6,
   "id": "cdae9aca-1bcc-4d1a-8c26-256958f3c725",
   "metadata": {},
   "outputs": [
    {
     "name": "stdin",
     "output_type": "stream",
     "text": [
      "Enter the number -5\n"
     ]
    },
    {
     "name": "stdout",
     "output_type": "stream",
     "text": [
      "Number is Negative\n"
     ]
    }
   ],
   "source": [
    "num = int(input(\"Enter the number:\"))\n",
    "if(num > 0):\n",
    "    print(\"Number is Positive\")\n",
    "elif(num <0):\n",
    "    print(\"Number is Negative\")\n",
    "else:\n",
    "    print(\"Number is Zero\")\n"
   ]
  },
  {
   "cell_type": "markdown",
   "id": "5e5fa519-dd8c-4670-85cb-7f59dc004d87",
   "metadata": {},
   "source": [
    "### 2.Write a program to check number is odd or even"
   ]
  },
  {
   "cell_type": "code",
   "execution_count": 9,
   "id": "73f3a112-a22f-4fb2-93f3-14d73502b6e0",
   "metadata": {},
   "outputs": [
    {
     "name": "stdin",
     "output_type": "stream",
     "text": [
      "Enter the number 6\n"
     ]
    },
    {
     "name": "stdout",
     "output_type": "stream",
     "text": [
      "Number is Even\n"
     ]
    }
   ],
   "source": [
    "num = int(input(\"Enter the number:\"))\n",
    "if(num % 2 == 0):\n",
    "    print(\"Number is Even\")\n",
    "else:\n",
    "    print(\"Number is Odd\")"
   ]
  },
  {
   "cell_type": "markdown",
   "id": "dc20f70d-a422-413b-bad8-4b14a112bcbd",
   "metadata": {},
   "source": [
    "### 3.Given two non negative values print true if they have same last digits"
   ]
  },
  {
   "cell_type": "code",
   "execution_count": 11,
   "id": "ae9b3490-ac26-4185-8db5-a9966a85e870",
   "metadata": {},
   "outputs": [
    {
     "name": "stdin",
     "output_type": "stream",
     "text": [
      "Enter the non negative number 34\n",
      "Enter the non negative number 21\n"
     ]
    },
    {
     "name": "stdout",
     "output_type": "stream",
     "text": [
      "False\n"
     ]
    }
   ],
   "source": [
    "num1 = int(input(\"Enter the non negative number:\"))\n",
    "num2 = int(input(\"Enter the non negative number:\"))\n",
    "if(num1 % 10 == num2 % 10):\n",
    "    print(\"True\")\n",
    "else:\n",
    "    print(\"False\")\n"
   ]
  },
  {
   "cell_type": "markdown",
   "id": "cbcaf450-a8bf-47de-ab21-fabe47ccbd84",
   "metadata": {},
   "source": [
    "### 4.Write a program to print numbers from 1 to 10 with single row with one tab space"
   ]
  },
  {
   "cell_type": "code",
   "execution_count": 26,
   "id": "e50fbba1-b392-41d0-9018-0caf0a76ae03",
   "metadata": {},
   "outputs": [
    {
     "name": "stdout",
     "output_type": "stream",
     "text": [
      "1 2 3 4 5 6 7 8 9 10 "
     ]
    }
   ],
   "source": [
    "for i in range(1,11):\n",
    "    print(i,end =\" \")"
   ]
  },
  {
   "cell_type": "markdown",
   "id": "29948a5a-990d-4cae-bf9e-7c30d110b247",
   "metadata": {},
   "source": [
    "### 5.Write a program to print even numbers between 23 to 57.Each number should be printed in seperate row"
   ]
  },
  {
   "cell_type": "code",
   "execution_count": 27,
   "id": "8ebe5341-cc12-4f6a-a242-88102dc75ebe",
   "metadata": {},
   "outputs": [
    {
     "name": "stdout",
     "output_type": "stream",
     "text": [
      "24\n",
      "26\n",
      "28\n",
      "30\n",
      "32\n",
      "34\n",
      "36\n",
      "38\n",
      "40\n",
      "42\n",
      "44\n",
      "46\n",
      "48\n",
      "50\n",
      "52\n",
      "54\n",
      "56\n"
     ]
    }
   ],
   "source": [
    "for i in range(23,57):\n",
    "    if(i % 2 == 0):\n",
    "        print(i)"
   ]
  },
  {
   "cell_type": "markdown",
   "id": "b13bbbe1-3dbc-4504-a8cc-4cb622e9cbf3",
   "metadata": {},
   "source": [
    "### 6.Write program to get prime numbers"
   ]
  },
  {
   "cell_type": "code",
   "execution_count": 35,
   "id": "5d54009a-f585-4684-81aa-67d6b326bdaf",
   "metadata": {},
   "outputs": [
    {
     "name": "stdin",
     "output_type": "stream",
     "text": [
      "Enter the range 10\n"
     ]
    },
    {
     "name": "stdout",
     "output_type": "stream",
     "text": [
      "2 3 5 7 "
     ]
    }
   ],
   "source": [
    "N = int(input(\"Enter the range:\"))\n",
    "\n",
    "for num in range(2, N + 1):\n",
    "    for i in range(2,num):\n",
    "        if num % i == 0:\n",
    "            break\n",
    "    else:\n",
    "        print(num, end =\" \")\n"
   ]
  },
  {
   "cell_type": "markdown",
   "id": "5fbea949-9ad5-4882-82dc-ab235d5a03b0",
   "metadata": {},
   "source": [
    "### 7.Write program to write prime numbers between 10 to 99"
   ]
  },
  {
   "cell_type": "code",
   "execution_count": 39,
   "id": "a5f85ef7-622e-4c8b-b24b-957014fcc954",
   "metadata": {},
   "outputs": [
    {
     "name": "stdout",
     "output_type": "stream",
     "text": [
      "11 13 17 19 23 29 31 37 41 43 47 53 59 61 67 71 73 79 83 89 97 "
     ]
    }
   ],
   "source": [
    "for num in range(10, 100):  \n",
    "    for i in range(2, num):  \n",
    "        if num % i == 0:  \n",
    "            break  \n",
    "    else:  \n",
    "        print(num, end=\" \")"
   ]
  },
  {
   "cell_type": "markdown",
   "id": "3be360d3-d2be-47e4-aa30-c07203b80f17",
   "metadata": {},
   "source": [
    "### 8.Write program to calculate sum of all digits"
   ]
  },
  {
   "cell_type": "code",
   "execution_count": 41,
   "id": "15e2af89-5280-44f2-b428-6553df165602",
   "metadata": {},
   "outputs": [
    {
     "name": "stdin",
     "output_type": "stream",
     "text": [
      "Enter the number 1234\n"
     ]
    },
    {
     "name": "stdout",
     "output_type": "stream",
     "text": [
      "sum of digit 10\n"
     ]
    }
   ],
   "source": [
    "num = int(input(\"Enter the number:\"))\n",
    "string_digit = 0\n",
    "\n",
    "while num > 0:\n",
    "    string_digit += num % 10\n",
    "    num //= 10\n",
    "print(\"sum of digit\",string_digit)\n",
    "    "
   ]
  },
  {
   "cell_type": "markdown",
   "id": "c1898efd-d163-4477-839b-64afca1c944a",
   "metadata": {},
   "source": [
    "### 9.Write program to reverse the number"
   ]
  },
  {
   "cell_type": "code",
   "execution_count": 42,
   "id": "ca28fe71-d01d-4619-9d58-2120664d3a49",
   "metadata": {},
   "outputs": [
    {
     "name": "stdin",
     "output_type": "stream",
     "text": [
      "Enter the number 1234\n"
     ]
    },
    {
     "name": "stdout",
     "output_type": "stream",
     "text": [
      "Reverse number is 4321\n"
     ]
    }
   ],
   "source": [
    "num = int(input(\"Enter the number:\"))\n",
    "rev_num = 0\n",
    "while num > 0:\n",
    "    rev_num = rev_num * 10 + num % 10\n",
    "    num//=10\n",
    "print(\"Reverse number is\",rev_num)"
   ]
  },
  {
   "cell_type": "markdown",
   "id": "c34fff76-813a-4d72-ac4f-b3e7b458b235",
   "metadata": {},
   "source": [
    "### 10.Write program to check number is palindrome"
   ]
  },
  {
   "cell_type": "code",
   "execution_count": 3,
   "id": "f1950bb9-655d-4538-8d53-6c4af0701738",
   "metadata": {},
   "outputs": [
    {
     "name": "stdin",
     "output_type": "stream",
     "text": [
      "Enter the number: 12345\n"
     ]
    },
    {
     "name": "stdout",
     "output_type": "stream",
     "text": [
      "Not a Palindrome\n"
     ]
    }
   ],
   "source": [
    "def is_palindrome(n):\n",
    "    return str(n) == str(n)[::-1]\n",
    "\n",
    "num = int(input(\"Enter the number:\"))\n",
    "if is_palindrome(num):\n",
    "    print(\"Palindrome\")\n",
    "else:\n",
    "    print(\"Not a Palindrome\")\n",
    "    \n",
    "\n",
    "    "
   ]
  },
  {
   "cell_type": "markdown",
   "id": "59f84411-4800-476d-a8fc-ef7c0453710c",
   "metadata": {},
   "source": [
    "### 11.Write program to check string is palindrome or not palindrome"
   ]
  },
  {
   "cell_type": "code",
   "execution_count": 5,
   "id": "85198cb0-a38b-4802-9a0c-1567dde73e61",
   "metadata": {},
   "outputs": [
    {
     "name": "stdout",
     "output_type": "stream",
     "text": [
      "Not a Palindrome\n"
     ]
    }
   ],
   "source": [
    "def is_palindrome(n):\n",
    "    return str(n) == str(n)[::-1]\n",
    "\n",
    "num = \"steps on no pets\"\n",
    "if is_palindrome(num):\n",
    "    print(\"Palindrome\")\n",
    "else:\n",
    "    print(\"Not a Palindrome\")\n",
    "    "
   ]
  },
  {
   "cell_type": "code",
   "execution_count": null,
   "id": "e592a404-493b-47e9-91eb-8ac26f9bc05e",
   "metadata": {},
   "outputs": [],
   "source": []
  }
 ],
 "metadata": {
  "kernelspec": {
   "display_name": "Python 3 (ipykernel)",
   "language": "python",
   "name": "python3"
  },
  "language_info": {
   "codemirror_mode": {
    "name": "ipython",
    "version": 3
   },
   "file_extension": ".py",
   "mimetype": "text/x-python",
   "name": "python",
   "nbconvert_exporter": "python",
   "pygments_lexer": "ipython3",
   "version": "3.11.4"
  }
 },
 "nbformat": 4,
 "nbformat_minor": 5
}
